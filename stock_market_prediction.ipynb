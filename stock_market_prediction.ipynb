{
  "nbformat": 4,
  "nbformat_minor": 0,
  "metadata": {
    "colab": {
      "provenance": [],
      "collapsed_sections": []
    },
    "kernelspec": {
      "name": "python3",
      "display_name": "Python 3"
    },
    "language_info": {
      "name": "python"
    }
  },
  "cells": [
    {
      "cell_type": "code",
      "execution_count": null,
      "metadata": {
        "id": "zFej6N_hGAUw"
      },
      "outputs": [],
      "source": [
        "#installing packages required\n",
        "import pandas as pd #importing pandas to create a new date frame later for predicting model\n",
        "import numpy as np #numpy needed for sklearn to calculate later mathematical calculation \n",
        "from sklearn import metrics #linear regression model and for calculating confusion matrix and accuracy score\n",
        "%matplotlib inline\n",
        "import matplotlib.pyplot as plt # for plotting graphs"
      ]
    },
    {
      "cell_type": "code",
      "source": [
        "df = pd.read_csv('tata_motors.csv')\n",
        "#importing data"
      ],
      "metadata": {
        "id": "ntMArtBBGuPc"
      },
      "execution_count": null,
      "outputs": []
    },
    {
      "cell_type": "code",
      "source": [
        "#reading the data (head describes initial 5 rows date)\n",
        "df.head()"
      ],
      "metadata": {
        "colab": {
          "base_uri": "https://localhost:8080/",
          "height": 458
        },
        "id": "yak7m9iyGy-J",
        "outputId": "423d8a91-be8a-4020-a822-6caa2f7f2a13"
      },
      "execution_count": null,
      "outputs": [
        {
          "output_type": "execute_result",
          "data": {
            "text/plain": [
              "         Date  Open Price  High Price  Low Price  Close Price         WAP  \\\n",
              "0  01-02-2012      182.00      185.00     178.65       183.80  181.770699   \n",
              "1  01-03-2012      186.05      194.60     186.05       193.90  191.325752   \n",
              "2  01-04-2012      193.10      202.00     193.10       200.45  198.819262   \n",
              "3  01-05-2012      200.80      205.60     200.15       201.55  203.171609   \n",
              "4  01-06-2012      199.50      204.65     198.35       203.15  201.530769   \n",
              "\n",
              "   No.of Shares  No. of Trades  Total Turnover (Rs.)  Deliverable Quantity  \\\n",
              "0       1881602          18215             342020111              460363.0   \n",
              "1       2444099          23307             467619079              663107.0   \n",
              "2       3614033          32219             718539375              933544.0   \n",
              "3       2954609          26866             600292664              770591.0   \n",
              "4       2154123          23524             434122064              544164.0   \n",
              "\n",
              "   % Deli. Qty to Traded Qty  Spread High-Low  Spread Close-Open  \n",
              "0                      24.47             6.35               1.80  \n",
              "1                      27.13             8.55               7.85  \n",
              "2                      25.83             8.90               7.35  \n",
              "3                      26.08             5.45               0.75  \n",
              "4                      25.26             6.30               3.65  "
            ],
            "text/html": [
              "\n",
              "  <div id=\"df-2336558d-b9a1-4497-bb97-4f69099a6e13\">\n",
              "    <div class=\"colab-df-container\">\n",
              "      <div>\n",
              "<style scoped>\n",
              "    .dataframe tbody tr th:only-of-type {\n",
              "        vertical-align: middle;\n",
              "    }\n",
              "\n",
              "    .dataframe tbody tr th {\n",
              "        vertical-align: top;\n",
              "    }\n",
              "\n",
              "    .dataframe thead th {\n",
              "        text-align: right;\n",
              "    }\n",
              "</style>\n",
              "<table border=\"1\" class=\"dataframe\">\n",
              "  <thead>\n",
              "    <tr style=\"text-align: right;\">\n",
              "      <th></th>\n",
              "      <th>Date</th>\n",
              "      <th>Open Price</th>\n",
              "      <th>High Price</th>\n",
              "      <th>Low Price</th>\n",
              "      <th>Close Price</th>\n",
              "      <th>WAP</th>\n",
              "      <th>No.of Shares</th>\n",
              "      <th>No. of Trades</th>\n",
              "      <th>Total Turnover (Rs.)</th>\n",
              "      <th>Deliverable Quantity</th>\n",
              "      <th>% Deli. Qty to Traded Qty</th>\n",
              "      <th>Spread High-Low</th>\n",
              "      <th>Spread Close-Open</th>\n",
              "    </tr>\n",
              "  </thead>\n",
              "  <tbody>\n",
              "    <tr>\n",
              "      <th>0</th>\n",
              "      <td>01-02-2012</td>\n",
              "      <td>182.00</td>\n",
              "      <td>185.00</td>\n",
              "      <td>178.65</td>\n",
              "      <td>183.80</td>\n",
              "      <td>181.770699</td>\n",
              "      <td>1881602</td>\n",
              "      <td>18215</td>\n",
              "      <td>342020111</td>\n",
              "      <td>460363.0</td>\n",
              "      <td>24.47</td>\n",
              "      <td>6.35</td>\n",
              "      <td>1.80</td>\n",
              "    </tr>\n",
              "    <tr>\n",
              "      <th>1</th>\n",
              "      <td>01-03-2012</td>\n",
              "      <td>186.05</td>\n",
              "      <td>194.60</td>\n",
              "      <td>186.05</td>\n",
              "      <td>193.90</td>\n",
              "      <td>191.325752</td>\n",
              "      <td>2444099</td>\n",
              "      <td>23307</td>\n",
              "      <td>467619079</td>\n",
              "      <td>663107.0</td>\n",
              "      <td>27.13</td>\n",
              "      <td>8.55</td>\n",
              "      <td>7.85</td>\n",
              "    </tr>\n",
              "    <tr>\n",
              "      <th>2</th>\n",
              "      <td>01-04-2012</td>\n",
              "      <td>193.10</td>\n",
              "      <td>202.00</td>\n",
              "      <td>193.10</td>\n",
              "      <td>200.45</td>\n",
              "      <td>198.819262</td>\n",
              "      <td>3614033</td>\n",
              "      <td>32219</td>\n",
              "      <td>718539375</td>\n",
              "      <td>933544.0</td>\n",
              "      <td>25.83</td>\n",
              "      <td>8.90</td>\n",
              "      <td>7.35</td>\n",
              "    </tr>\n",
              "    <tr>\n",
              "      <th>3</th>\n",
              "      <td>01-05-2012</td>\n",
              "      <td>200.80</td>\n",
              "      <td>205.60</td>\n",
              "      <td>200.15</td>\n",
              "      <td>201.55</td>\n",
              "      <td>203.171609</td>\n",
              "      <td>2954609</td>\n",
              "      <td>26866</td>\n",
              "      <td>600292664</td>\n",
              "      <td>770591.0</td>\n",
              "      <td>26.08</td>\n",
              "      <td>5.45</td>\n",
              "      <td>0.75</td>\n",
              "    </tr>\n",
              "    <tr>\n",
              "      <th>4</th>\n",
              "      <td>01-06-2012</td>\n",
              "      <td>199.50</td>\n",
              "      <td>204.65</td>\n",
              "      <td>198.35</td>\n",
              "      <td>203.15</td>\n",
              "      <td>201.530769</td>\n",
              "      <td>2154123</td>\n",
              "      <td>23524</td>\n",
              "      <td>434122064</td>\n",
              "      <td>544164.0</td>\n",
              "      <td>25.26</td>\n",
              "      <td>6.30</td>\n",
              "      <td>3.65</td>\n",
              "    </tr>\n",
              "  </tbody>\n",
              "</table>\n",
              "</div>\n",
              "      <button class=\"colab-df-convert\" onclick=\"convertToInteractive('df-2336558d-b9a1-4497-bb97-4f69099a6e13')\"\n",
              "              title=\"Convert this dataframe to an interactive table.\"\n",
              "              style=\"display:none;\">\n",
              "        \n",
              "  <svg xmlns=\"http://www.w3.org/2000/svg\" height=\"24px\"viewBox=\"0 0 24 24\"\n",
              "       width=\"24px\">\n",
              "    <path d=\"M0 0h24v24H0V0z\" fill=\"none\"/>\n",
              "    <path d=\"M18.56 5.44l.94 2.06.94-2.06 2.06-.94-2.06-.94-.94-2.06-.94 2.06-2.06.94zm-11 1L8.5 8.5l.94-2.06 2.06-.94-2.06-.94L8.5 2.5l-.94 2.06-2.06.94zm10 10l.94 2.06.94-2.06 2.06-.94-2.06-.94-.94-2.06-.94 2.06-2.06.94z\"/><path d=\"M17.41 7.96l-1.37-1.37c-.4-.4-.92-.59-1.43-.59-.52 0-1.04.2-1.43.59L10.3 9.45l-7.72 7.72c-.78.78-.78 2.05 0 2.83L4 21.41c.39.39.9.59 1.41.59.51 0 1.02-.2 1.41-.59l7.78-7.78 2.81-2.81c.8-.78.8-2.07 0-2.86zM5.41 20L4 18.59l7.72-7.72 1.47 1.35L5.41 20z\"/>\n",
              "  </svg>\n",
              "      </button>\n",
              "      \n",
              "  <style>\n",
              "    .colab-df-container {\n",
              "      display:flex;\n",
              "      flex-wrap:wrap;\n",
              "      gap: 12px;\n",
              "    }\n",
              "\n",
              "    .colab-df-convert {\n",
              "      background-color: #E8F0FE;\n",
              "      border: none;\n",
              "      border-radius: 50%;\n",
              "      cursor: pointer;\n",
              "      display: none;\n",
              "      fill: #1967D2;\n",
              "      height: 32px;\n",
              "      padding: 0 0 0 0;\n",
              "      width: 32px;\n",
              "    }\n",
              "\n",
              "    .colab-df-convert:hover {\n",
              "      background-color: #E2EBFA;\n",
              "      box-shadow: 0px 1px 2px rgba(60, 64, 67, 0.3), 0px 1px 3px 1px rgba(60, 64, 67, 0.15);\n",
              "      fill: #174EA6;\n",
              "    }\n",
              "\n",
              "    [theme=dark] .colab-df-convert {\n",
              "      background-color: #3B4455;\n",
              "      fill: #D2E3FC;\n",
              "    }\n",
              "\n",
              "    [theme=dark] .colab-df-convert:hover {\n",
              "      background-color: #434B5C;\n",
              "      box-shadow: 0px 1px 3px 1px rgba(0, 0, 0, 0.15);\n",
              "      filter: drop-shadow(0px 1px 2px rgba(0, 0, 0, 0.3));\n",
              "      fill: #FFFFFF;\n",
              "    }\n",
              "  </style>\n",
              "\n",
              "      <script>\n",
              "        const buttonEl =\n",
              "          document.querySelector('#df-2336558d-b9a1-4497-bb97-4f69099a6e13 button.colab-df-convert');\n",
              "        buttonEl.style.display =\n",
              "          google.colab.kernel.accessAllowed ? 'block' : 'none';\n",
              "\n",
              "        async function convertToInteractive(key) {\n",
              "          const element = document.querySelector('#df-2336558d-b9a1-4497-bb97-4f69099a6e13');\n",
              "          const dataTable =\n",
              "            await google.colab.kernel.invokeFunction('convertToInteractive',\n",
              "                                                     [key], {});\n",
              "          if (!dataTable) return;\n",
              "\n",
              "          const docLinkHtml = 'Like what you see? Visit the ' +\n",
              "            '<a target=\"_blank\" href=https://colab.research.google.com/notebooks/data_table.ipynb>data table notebook</a>'\n",
              "            + ' to learn more about interactive tables.';\n",
              "          element.innerHTML = '';\n",
              "          dataTable['output_type'] = 'display_data';\n",
              "          await google.colab.output.renderOutput(dataTable, element);\n",
              "          const docLink = document.createElement('div');\n",
              "          docLink.innerHTML = docLinkHtml;\n",
              "          element.appendChild(docLink);\n",
              "        }\n",
              "      </script>\n",
              "    </div>\n",
              "  </div>\n",
              "  "
            ]
          },
          "metadata": {},
          "execution_count": 71
        }
      ]
    },
    {
      "cell_type": "code",
      "source": [
        "#Before developing the regression model we trim the data, The ‘Date’ column will be converted to a DatetimeIndex\n",
        "df.set_index(pd.DatetimeIndex(df['Date']), inplace=True)"
      ],
      "metadata": {
        "id": "TpRo-Zod0i1g"
      },
      "execution_count": null,
      "outputs": []
    },
    {
      "cell_type": "code",
      "source": [
        "#The shape attribute of pandas. DataFrame stores the number of rows and columns as a tuple (number of rows, number of columns)\n",
        "df.shape"
      ],
      "metadata": {
        "colab": {
          "base_uri": "https://localhost:8080/"
        },
        "id": "r4Z2njcDHDSX",
        "outputId": "3e8376ea-fc40-4066-dd67-29e5b3508835"
      },
      "execution_count": null,
      "outputs": [
        {
          "output_type": "execute_result",
          "data": {
            "text/plain": [
              "(2479, 13)"
            ]
          },
          "metadata": {},
          "execution_count": 73
        }
      ]
    },
    {
      "cell_type": "code",
      "source": [
        "#checks if there are null values present or not\n",
        "df.isnull().sum()"
      ],
      "metadata": {
        "colab": {
          "base_uri": "https://localhost:8080/"
        },
        "id": "4vzbmeERHdu6",
        "outputId": "a40e6360-2bcc-49a8-8199-58cd3b1e2ccd"
      },
      "execution_count": null,
      "outputs": [
        {
          "output_type": "execute_result",
          "data": {
            "text/plain": [
              "Date                         0\n",
              "Open Price                   0\n",
              "High Price                   0\n",
              "Low Price                    0\n",
              "Close Price                  0\n",
              "WAP                          0\n",
              "No.of Shares                 0\n",
              "No. of Trades                0\n",
              "Total Turnover (Rs.)         0\n",
              "Deliverable Quantity         1\n",
              "% Deli. Qty to Traded Qty    1\n",
              "Spread High-Low              0\n",
              "Spread Close-Open            0\n",
              "dtype: int64"
            ]
          },
          "metadata": {},
          "execution_count": 74
        }
      ]
    },
    {
      "cell_type": "code",
      "source": [
        "#isna() takes a scalar or array-like object and indicates whether values are missing ( NaN in numeric arrays, None or NaN in object arrays)\n",
        "#checks if there are non applicable values present or not\n",
        "df.isna().any()"
      ],
      "metadata": {
        "colab": {
          "base_uri": "https://localhost:8080/"
        },
        "id": "0uw3mZvKHrxD",
        "outputId": "14ccb58b-ff9b-4526-ae7b-c52710ff2694"
      },
      "execution_count": null,
      "outputs": [
        {
          "output_type": "execute_result",
          "data": {
            "text/plain": [
              "Date                         False\n",
              "Open Price                   False\n",
              "High Price                   False\n",
              "Low Price                    False\n",
              "Close Price                  False\n",
              "WAP                          False\n",
              "No.of Shares                 False\n",
              "No. of Trades                False\n",
              "Total Turnover (Rs.)         False\n",
              "Deliverable Quantity          True\n",
              "% Deli. Qty to Traded Qty     True\n",
              "Spread High-Low              False\n",
              "Spread Close-Open            False\n",
              "dtype: bool"
            ]
          },
          "metadata": {},
          "execution_count": 75
        }
      ]
    },
    {
      "cell_type": "code",
      "source": [
        "#gives the information about the dataset and its datatypes\n",
        "df.info()"
      ],
      "metadata": {
        "colab": {
          "base_uri": "https://localhost:8080/"
        },
        "id": "bocCb-JOHw6x",
        "outputId": "4bc54264-7e44-40c6-9954-e33d71741545"
      },
      "execution_count": null,
      "outputs": [
        {
          "output_type": "stream",
          "name": "stdout",
          "text": [
            "<class 'pandas.core.frame.DataFrame'>\n",
            "DatetimeIndex: 2479 entries, 2012-01-02 to 2021-12-31\n",
            "Data columns (total 13 columns):\n",
            " #   Column                     Non-Null Count  Dtype  \n",
            "---  ------                     --------------  -----  \n",
            " 0   Date                       2479 non-null   object \n",
            " 1   Open Price                 2479 non-null   float64\n",
            " 2   High Price                 2479 non-null   float64\n",
            " 3   Low Price                  2479 non-null   float64\n",
            " 4   Close Price                2479 non-null   float64\n",
            " 5   WAP                        2479 non-null   float64\n",
            " 6   No.of Shares               2479 non-null   int64  \n",
            " 7   No. of Trades              2479 non-null   int64  \n",
            " 8   Total Turnover (Rs.)       2479 non-null   int64  \n",
            " 9   Deliverable Quantity       2478 non-null   float64\n",
            " 10  % Deli. Qty to Traded Qty  2478 non-null   float64\n",
            " 11  Spread High-Low            2479 non-null   float64\n",
            " 12  Spread Close-Open          2479 non-null   float64\n",
            "dtypes: float64(9), int64(3), object(1)\n",
            "memory usage: 271.1+ KB\n"
          ]
        }
      ]
    },
    {
      "cell_type": "code",
      "source": [
        "#The describe() method is used for calculating some statistical data like count of non empty values, mean, standard deviation, \n",
        "#percentile of %, min, max value of the numerical values of the Series or DataFrame.\n",
        "df.describe()"
      ],
      "metadata": {
        "colab": {
          "base_uri": "https://localhost:8080/",
          "height": 399
        },
        "id": "nMkAVou7H03v",
        "outputId": "13a5f0fc-bb4c-450e-c43e-f2c63461a89b"
      },
      "execution_count": null,
      "outputs": [
        {
          "output_type": "execute_result",
          "data": {
            "text/plain": [
              "       Open Price   High Price    Low Price  Close Price          WAP  \\\n",
              "count  2479.00000  2479.000000  2479.000000  2479.000000  2479.000000   \n",
              "mean    329.38568   334.078035   324.023558   328.730093   329.085990   \n",
              "std     128.72824   129.848277   127.284924   128.455570   128.504187   \n",
              "min      67.05000    68.000000    63.600000    65.300000    65.528024   \n",
              "25%     236.05000   239.400000   230.850000   235.525000   236.042465   \n",
              "50%     325.45000   331.850000   318.700000   324.100000   325.461044   \n",
              "75%     434.20000   438.550000   428.575000   432.700000   433.040698   \n",
              "max     606.00000   612.050000   595.250000   605.100000   605.255847   \n",
              "\n",
              "       No.of Shares  No. of Trades  Total Turnover (Rs.)  \\\n",
              "count  2.479000e+03    2479.000000          2.479000e+03   \n",
              "mean   1.611268e+06   14349.918919          4.308518e+08   \n",
              "std    2.815082e+06   13999.217842          1.019750e+09   \n",
              "min    2.892300e+04     615.000000          1.124769e+07   \n",
              "25%    5.090820e+05    7384.000000          1.879874e+08   \n",
              "50%    9.411860e+05   10527.000000          2.726753e+08   \n",
              "75%    1.819303e+06   15870.500000          4.331772e+08   \n",
              "max    8.410000e+07  164374.000000          3.807770e+10   \n",
              "\n",
              "       Deliverable Quantity  % Deli. Qty to Traded Qty  Spread High-Low  \\\n",
              "count          2.478000e+03                2478.000000      2479.000000   \n",
              "mean           4.499215e+05                  27.467228        10.054478   \n",
              "std            2.072662e+06                  13.187014         5.581517   \n",
              "min            6.801000e+03                   2.930000         0.950000   \n",
              "25%            1.306568e+05                  18.095000         6.200000   \n",
              "50%            2.383965e+05                  25.090000         8.850000   \n",
              "75%            4.466125e+05                  34.035000        12.450000   \n",
              "max            8.376508e+07                  99.600000        57.100000   \n",
              "\n",
              "       Spread Close-Open  \n",
              "count        2479.000000  \n",
              "mean           -0.655587  \n",
              "std             6.976874  \n",
              "min           -34.950000  \n",
              "25%            -4.450000  \n",
              "50%            -0.900000  \n",
              "75%             3.000000  \n",
              "max            43.900000  "
            ],
            "text/html": [
              "\n",
              "  <div id=\"df-2af008dc-9592-48e6-a832-6a51013d787e\">\n",
              "    <div class=\"colab-df-container\">\n",
              "      <div>\n",
              "<style scoped>\n",
              "    .dataframe tbody tr th:only-of-type {\n",
              "        vertical-align: middle;\n",
              "    }\n",
              "\n",
              "    .dataframe tbody tr th {\n",
              "        vertical-align: top;\n",
              "    }\n",
              "\n",
              "    .dataframe thead th {\n",
              "        text-align: right;\n",
              "    }\n",
              "</style>\n",
              "<table border=\"1\" class=\"dataframe\">\n",
              "  <thead>\n",
              "    <tr style=\"text-align: right;\">\n",
              "      <th></th>\n",
              "      <th>Open Price</th>\n",
              "      <th>High Price</th>\n",
              "      <th>Low Price</th>\n",
              "      <th>Close Price</th>\n",
              "      <th>WAP</th>\n",
              "      <th>No.of Shares</th>\n",
              "      <th>No. of Trades</th>\n",
              "      <th>Total Turnover (Rs.)</th>\n",
              "      <th>Deliverable Quantity</th>\n",
              "      <th>% Deli. Qty to Traded Qty</th>\n",
              "      <th>Spread High-Low</th>\n",
              "      <th>Spread Close-Open</th>\n",
              "    </tr>\n",
              "  </thead>\n",
              "  <tbody>\n",
              "    <tr>\n",
              "      <th>count</th>\n",
              "      <td>2479.00000</td>\n",
              "      <td>2479.000000</td>\n",
              "      <td>2479.000000</td>\n",
              "      <td>2479.000000</td>\n",
              "      <td>2479.000000</td>\n",
              "      <td>2.479000e+03</td>\n",
              "      <td>2479.000000</td>\n",
              "      <td>2.479000e+03</td>\n",
              "      <td>2.478000e+03</td>\n",
              "      <td>2478.000000</td>\n",
              "      <td>2479.000000</td>\n",
              "      <td>2479.000000</td>\n",
              "    </tr>\n",
              "    <tr>\n",
              "      <th>mean</th>\n",
              "      <td>329.38568</td>\n",
              "      <td>334.078035</td>\n",
              "      <td>324.023558</td>\n",
              "      <td>328.730093</td>\n",
              "      <td>329.085990</td>\n",
              "      <td>1.611268e+06</td>\n",
              "      <td>14349.918919</td>\n",
              "      <td>4.308518e+08</td>\n",
              "      <td>4.499215e+05</td>\n",
              "      <td>27.467228</td>\n",
              "      <td>10.054478</td>\n",
              "      <td>-0.655587</td>\n",
              "    </tr>\n",
              "    <tr>\n",
              "      <th>std</th>\n",
              "      <td>128.72824</td>\n",
              "      <td>129.848277</td>\n",
              "      <td>127.284924</td>\n",
              "      <td>128.455570</td>\n",
              "      <td>128.504187</td>\n",
              "      <td>2.815082e+06</td>\n",
              "      <td>13999.217842</td>\n",
              "      <td>1.019750e+09</td>\n",
              "      <td>2.072662e+06</td>\n",
              "      <td>13.187014</td>\n",
              "      <td>5.581517</td>\n",
              "      <td>6.976874</td>\n",
              "    </tr>\n",
              "    <tr>\n",
              "      <th>min</th>\n",
              "      <td>67.05000</td>\n",
              "      <td>68.000000</td>\n",
              "      <td>63.600000</td>\n",
              "      <td>65.300000</td>\n",
              "      <td>65.528024</td>\n",
              "      <td>2.892300e+04</td>\n",
              "      <td>615.000000</td>\n",
              "      <td>1.124769e+07</td>\n",
              "      <td>6.801000e+03</td>\n",
              "      <td>2.930000</td>\n",
              "      <td>0.950000</td>\n",
              "      <td>-34.950000</td>\n",
              "    </tr>\n",
              "    <tr>\n",
              "      <th>25%</th>\n",
              "      <td>236.05000</td>\n",
              "      <td>239.400000</td>\n",
              "      <td>230.850000</td>\n",
              "      <td>235.525000</td>\n",
              "      <td>236.042465</td>\n",
              "      <td>5.090820e+05</td>\n",
              "      <td>7384.000000</td>\n",
              "      <td>1.879874e+08</td>\n",
              "      <td>1.306568e+05</td>\n",
              "      <td>18.095000</td>\n",
              "      <td>6.200000</td>\n",
              "      <td>-4.450000</td>\n",
              "    </tr>\n",
              "    <tr>\n",
              "      <th>50%</th>\n",
              "      <td>325.45000</td>\n",
              "      <td>331.850000</td>\n",
              "      <td>318.700000</td>\n",
              "      <td>324.100000</td>\n",
              "      <td>325.461044</td>\n",
              "      <td>9.411860e+05</td>\n",
              "      <td>10527.000000</td>\n",
              "      <td>2.726753e+08</td>\n",
              "      <td>2.383965e+05</td>\n",
              "      <td>25.090000</td>\n",
              "      <td>8.850000</td>\n",
              "      <td>-0.900000</td>\n",
              "    </tr>\n",
              "    <tr>\n",
              "      <th>75%</th>\n",
              "      <td>434.20000</td>\n",
              "      <td>438.550000</td>\n",
              "      <td>428.575000</td>\n",
              "      <td>432.700000</td>\n",
              "      <td>433.040698</td>\n",
              "      <td>1.819303e+06</td>\n",
              "      <td>15870.500000</td>\n",
              "      <td>4.331772e+08</td>\n",
              "      <td>4.466125e+05</td>\n",
              "      <td>34.035000</td>\n",
              "      <td>12.450000</td>\n",
              "      <td>3.000000</td>\n",
              "    </tr>\n",
              "    <tr>\n",
              "      <th>max</th>\n",
              "      <td>606.00000</td>\n",
              "      <td>612.050000</td>\n",
              "      <td>595.250000</td>\n",
              "      <td>605.100000</td>\n",
              "      <td>605.255847</td>\n",
              "      <td>8.410000e+07</td>\n",
              "      <td>164374.000000</td>\n",
              "      <td>3.807770e+10</td>\n",
              "      <td>8.376508e+07</td>\n",
              "      <td>99.600000</td>\n",
              "      <td>57.100000</td>\n",
              "      <td>43.900000</td>\n",
              "    </tr>\n",
              "  </tbody>\n",
              "</table>\n",
              "</div>\n",
              "      <button class=\"colab-df-convert\" onclick=\"convertToInteractive('df-2af008dc-9592-48e6-a832-6a51013d787e')\"\n",
              "              title=\"Convert this dataframe to an interactive table.\"\n",
              "              style=\"display:none;\">\n",
              "        \n",
              "  <svg xmlns=\"http://www.w3.org/2000/svg\" height=\"24px\"viewBox=\"0 0 24 24\"\n",
              "       width=\"24px\">\n",
              "    <path d=\"M0 0h24v24H0V0z\" fill=\"none\"/>\n",
              "    <path d=\"M18.56 5.44l.94 2.06.94-2.06 2.06-.94-2.06-.94-.94-2.06-.94 2.06-2.06.94zm-11 1L8.5 8.5l.94-2.06 2.06-.94-2.06-.94L8.5 2.5l-.94 2.06-2.06.94zm10 10l.94 2.06.94-2.06 2.06-.94-2.06-.94-.94-2.06-.94 2.06-2.06.94z\"/><path d=\"M17.41 7.96l-1.37-1.37c-.4-.4-.92-.59-1.43-.59-.52 0-1.04.2-1.43.59L10.3 9.45l-7.72 7.72c-.78.78-.78 2.05 0 2.83L4 21.41c.39.39.9.59 1.41.59.51 0 1.02-.2 1.41-.59l7.78-7.78 2.81-2.81c.8-.78.8-2.07 0-2.86zM5.41 20L4 18.59l7.72-7.72 1.47 1.35L5.41 20z\"/>\n",
              "  </svg>\n",
              "      </button>\n",
              "      \n",
              "  <style>\n",
              "    .colab-df-container {\n",
              "      display:flex;\n",
              "      flex-wrap:wrap;\n",
              "      gap: 12px;\n",
              "    }\n",
              "\n",
              "    .colab-df-convert {\n",
              "      background-color: #E8F0FE;\n",
              "      border: none;\n",
              "      border-radius: 50%;\n",
              "      cursor: pointer;\n",
              "      display: none;\n",
              "      fill: #1967D2;\n",
              "      height: 32px;\n",
              "      padding: 0 0 0 0;\n",
              "      width: 32px;\n",
              "    }\n",
              "\n",
              "    .colab-df-convert:hover {\n",
              "      background-color: #E2EBFA;\n",
              "      box-shadow: 0px 1px 2px rgba(60, 64, 67, 0.3), 0px 1px 3px 1px rgba(60, 64, 67, 0.15);\n",
              "      fill: #174EA6;\n",
              "    }\n",
              "\n",
              "    [theme=dark] .colab-df-convert {\n",
              "      background-color: #3B4455;\n",
              "      fill: #D2E3FC;\n",
              "    }\n",
              "\n",
              "    [theme=dark] .colab-df-convert:hover {\n",
              "      background-color: #434B5C;\n",
              "      box-shadow: 0px 1px 3px 1px rgba(0, 0, 0, 0.15);\n",
              "      filter: drop-shadow(0px 1px 2px rgba(0, 0, 0, 0.3));\n",
              "      fill: #FFFFFF;\n",
              "    }\n",
              "  </style>\n",
              "\n",
              "      <script>\n",
              "        const buttonEl =\n",
              "          document.querySelector('#df-2af008dc-9592-48e6-a832-6a51013d787e button.colab-df-convert');\n",
              "        buttonEl.style.display =\n",
              "          google.colab.kernel.accessAllowed ? 'block' : 'none';\n",
              "\n",
              "        async function convertToInteractive(key) {\n",
              "          const element = document.querySelector('#df-2af008dc-9592-48e6-a832-6a51013d787e');\n",
              "          const dataTable =\n",
              "            await google.colab.kernel.invokeFunction('convertToInteractive',\n",
              "                                                     [key], {});\n",
              "          if (!dataTable) return;\n",
              "\n",
              "          const docLinkHtml = 'Like what you see? Visit the ' +\n",
              "            '<a target=\"_blank\" href=https://colab.research.google.com/notebooks/data_table.ipynb>data table notebook</a>'\n",
              "            + ' to learn more about interactive tables.';\n",
              "          element.innerHTML = '';\n",
              "          dataTable['output_type'] = 'display_data';\n",
              "          await google.colab.output.renderOutput(dataTable, element);\n",
              "          const docLink = document.createElement('div');\n",
              "          docLink.innerHTML = docLinkHtml;\n",
              "          element.appendChild(docLink);\n",
              "        }\n",
              "      </script>\n",
              "    </div>\n",
              "  </div>\n",
              "  "
            ]
          },
          "metadata": {},
          "execution_count": 77
        }
      ]
    },
    {
      "cell_type": "code",
      "source": [
        "#Calculating the length of dataset\n",
        "print(len(df))"
      ],
      "metadata": {
        "colab": {
          "base_uri": "https://localhost:8080/"
        },
        "id": "SSVUHvD4H4ER",
        "outputId": "24843c99-42eb-4452-b021-9ddbb228d28c"
      },
      "execution_count": null,
      "outputs": [
        {
          "output_type": "stream",
          "name": "stdout",
          "text": [
            "2479\n"
          ]
        }
      ]
    },
    {
      "cell_type": "code",
      "source": [
        "#plotting the graph against close price and years\n",
        "df['Open Price'].plot(figsize=(20,6))"
      ],
      "metadata": {
        "colab": {
          "base_uri": "https://localhost:8080/",
          "height": 345
        },
        "id": "AtM7J2v-H9Kb",
        "outputId": "7cf84fe6-6740-471f-b16d-f6b0e72cc597"
      },
      "execution_count": null,
      "outputs": [
        {
          "output_type": "execute_result",
          "data": {
            "text/plain": [
              "<matplotlib.axes._subplots.AxesSubplot at 0x7fa82586b590>"
            ]
          },
          "metadata": {},
          "execution_count": 79
        },
        {
          "output_type": "display_data",
          "data": {
            "text/plain": [
              "<Figure size 1440x432 with 1 Axes>"
            ],
            "image/png": "[encoded data removed]"
          },
          "metadata": {
            "needs_background": "light"
          }
        }
      ]
    },
    {
      "cell_type": "code",
      "source": [
        "#Declare two variables since in linear regression we have dependent and independent variables\n",
        "#X are the independent variables selected\n",
        "#y is the dependent variable selected\n",
        "X = df[['Open Price', 'High Price', 'Low Price', 'No.of Shares']]\n",
        "y = df['Close Price']"
      ],
      "metadata": {
        "id": "TPBlVDJ9IMQp"
      },
      "execution_count": null,
      "outputs": []
    },
    {
      "cell_type": "markdown",
      "source": [
        "Test-Train split"
      ],
      "metadata": {
        "id": "SDtkE1M-KTpY"
      }
    },
    {
      "cell_type": "code",
      "source": [
        "#we split the data into testing and training model data using sklearn embedded functions\n",
        "#the embedded funtion here divides the data into 75 - 25 percent \n",
        "from sklearn.model_selection import train_test_split\n",
        "X_train , X_test , y_train , y_test = train_test_split(X ,y , random_state = 0)"
      ],
      "metadata": {
        "id": "-4-q9y8YJ0Zd"
      },
      "execution_count": null,
      "outputs": []
    },
    {
      "cell_type": "code",
      "source": [
        "#number of columns and rows of training data\n",
        "X_train.shape"
      ],
      "metadata": {
        "colab": {
          "base_uri": "https://localhost:8080/"
        },
        "id": "D4SuKnpDJ7ny",
        "outputId": "a10bb435-4daa-4c0b-c20c-54f326a2c0f7"
      },
      "execution_count": null,
      "outputs": [
        {
          "output_type": "execute_result",
          "data": {
            "text/plain": [
              "(1859, 4)"
            ]
          },
          "metadata": {},
          "execution_count": 82
        }
      ]
    },
    {
      "cell_type": "code",
      "source": [
        "#number of columns and rows of testing data\n",
        "X_test.shape"
      ],
      "metadata": {
        "colab": {
          "base_uri": "https://localhost:8080/"
        },
        "id": "OMgKQu1YJ9ea",
        "outputId": "519bd8f4-9fec-4747-de2c-4708eb0c6149"
      },
      "execution_count": null,
      "outputs": [
        {
          "output_type": "execute_result",
          "data": {
            "text/plain": [
              "(620, 4)"
            ]
          },
          "metadata": {},
          "execution_count": 83
        }
      ]
    },
    {
      "cell_type": "code",
      "source": [
        "#importing linear regression model, accuracy score and confusion matrix from the respective libraries\n",
        "from sklearn.linear_model import LinearRegression\n",
        "regressor = LinearRegression()"
      ],
      "metadata": {
        "id": "z-j8PHUtKBTc"
      },
      "execution_count": null,
      "outputs": []
    },
    {
      "cell_type": "code",
      "source": [
        "#With the fit model we use parameters X_train and y_train\n",
        "regressor.fit(X_train,y_train)"
      ],
      "metadata": {
        "colab": {
          "base_uri": "https://localhost:8080/"
        },
        "id": "RV8P6JW9KMNl",
        "outputId": "17993471-a1bc-464a-dcdd-f16dc0daa3e6"
      },
      "execution_count": null,
      "outputs": [
        {
          "output_type": "execute_result",
          "data": {
            "text/plain": [
              "LinearRegression()"
            ]
          },
          "metadata": {},
          "execution_count": 85
        }
      ]
    },
    {
      "cell_type": "code",
      "source": [
        "#The coef_ gives the coefficient of the features of the dataset.\n",
        "#That is for here the first coef is for the open price and second is for high price (from X which are independent variables)so on..\n",
        "print(regressor.coef_)"
      ],
      "metadata": {
        "colab": {
          "base_uri": "https://localhost:8080/"
        },
        "id": "_BHRKZLmKPq6",
        "outputId": "c5401b30-1cc2-4e9b-a63b-3d85ab779101"
      },
      "execution_count": null,
      "outputs": [
        {
          "output_type": "stream",
          "name": "stdout",
          "text": [
            "[-5.69902397e-01  8.46566557e-01  7.21160688e-01 -4.43967332e-08]\n"
          ]
        }
      ]
    },
    {
      "cell_type": "code",
      "source": [
        "#printing the intercept value\n",
        "print(regressor.intercept_)"
      ],
      "metadata": {
        "colab": {
          "base_uri": "https://localhost:8080/"
        },
        "id": "28UMT3lOKUaa",
        "outputId": "8a4eb36a-6602-40d3-bbb7-2d71b647583c"
      },
      "execution_count": null,
      "outputs": [
        {
          "output_type": "stream",
          "name": "stdout",
          "text": [
            "0.010370838772871593\n"
          ]
        }
      ]
    },
    {
      "cell_type": "code",
      "source": [
        "#Use the model to make predictions\n",
        "predicted=regressor.predict(X_test)"
      ],
      "metadata": {
        "id": "tPZD1bXOKWgy"
      },
      "execution_count": null,
      "outputs": []
    },
    {
      "cell_type": "code",
      "source": [
        "#printing the test data that we divided earlier\n",
        "print(X_test)"
      ],
      "metadata": {
        "colab": {
          "base_uri": "https://localhost:8080/"
        },
        "id": "EcfvrBrnKYvt",
        "outputId": "565255e3-a4d3-4630-9a5a-02927da599d8"
      },
      "execution_count": null,
      "outputs": [
        {
          "output_type": "stream",
          "name": "stdout",
          "text": [
            "            Open Price  High Price  Low Price  No.of Shares\n",
            "Date                                                       \n",
            "2013-09-30      336.00      339.55     330.60        254940\n",
            "2014-10-31      526.35      537.00     521.05        447578\n",
            "2016-03-21      365.65      375.20     365.65        656543\n",
            "2013-10-22      379.35      385.00     376.05        675083\n",
            "2013-03-13      305.60      306.00     297.35       1369948\n",
            "...                ...         ...        ...           ...\n",
            "2021-12-31      472.25      483.45     472.25        510974\n",
            "2016-09-21      548.60      556.20     544.50        418133\n",
            "2017-03-10      472.00      472.00     465.30        407708\n",
            "2014-12-08      524.60      530.45     513.70        279542\n",
            "2016-01-27      336.55      341.00     333.35        519337\n",
            "\n",
            "[620 rows x 4 columns]\n"
          ]
        }
      ]
    },
    {
      "cell_type": "code",
      "source": [
        "#printing the columns of the predicted data\n",
        "predicted.shape"
      ],
      "metadata": {
        "colab": {
          "base_uri": "https://localhost:8080/"
        },
        "id": "r6SRgYMLKbJw",
        "outputId": "2745fe4e-d29e-4708-8cce-7c21b76b0e9b"
      },
      "execution_count": null,
      "outputs": [
        {
          "output_type": "execute_result",
          "data": {
            "text/plain": [
              "(620,)"
            ]
          },
          "metadata": {},
          "execution_count": 90
        }
      ]
    },
    {
      "cell_type": "code",
      "source": [
        "#Creating another dataframe using pandas with parameters y_test and predicted \n",
        "dframe=pd.DataFrame(y_test,predicted)"
      ],
      "metadata": {
        "id": "1673IKoXKcwD"
      },
      "execution_count": null,
      "outputs": []
    },
    {
      "cell_type": "code",
      "source": [
        "#here we short list actual and predicted values for the new data frame which would be our predictive model\n",
        "dfr=pd.DataFrame({'Actual':y_test,'Predicted':predicted})"
      ],
      "metadata": {
        "id": "Nn2GEZfeKh8o"
      },
      "execution_count": null,
      "outputs": []
    },
    {
      "cell_type": "code",
      "source": [
        "#printing the new dataframe created\n",
        "print(dfr)"
      ],
      "metadata": {
        "colab": {
          "base_uri": "https://localhost:8080/"
        },
        "id": "mUeEMUEUKjK3",
        "outputId": "a1376654-0a80-4fb9-d494-663730b5702e"
      },
      "execution_count": null,
      "outputs": [
        {
          "output_type": "stream",
          "name": "stdout",
          "text": [
            "            Actual   Predicted\n",
            "Date                          \n",
            "2013-09-30  332.35  334.379245\n",
            "2014-10-31  535.65  530.389391\n",
            "2016-03-21  374.55  372.920589\n",
            "2013-10-22  379.95  380.908526\n",
            "2013-03-13  300.80  299.273874\n",
            "...            ...         ...\n",
            "2021-12-31  482.35  480.692015\n",
            "2016-09-21  549.95  550.875666\n",
            "2017-03-10  468.95  466.133822\n",
            "2014-12-08  515.80  520.548638\n",
            "2016-01-27  337.15  337.264774\n",
            "\n",
            "[620 rows x 2 columns]\n"
          ]
        }
      ]
    },
    {
      "cell_type": "code",
      "source": [
        "#printing the initial 25 values\n",
        "dfr.head(25)"
      ],
      "metadata": {
        "colab": {
          "base_uri": "https://localhost:8080/",
          "height": 865
        },
        "id": "GdxI4Fm7KlSt",
        "outputId": "dfed839e-48e0-4fb7-9f0b-7d3139626279"
      },
      "execution_count": null,
      "outputs": [
        {
          "output_type": "execute_result",
          "data": {
            "text/plain": [
              "            Actual   Predicted\n",
              "Date                          \n",
              "2013-09-30  332.35  334.379245\n",
              "2014-10-31  535.65  530.389391\n",
              "2016-03-21  374.55  372.920589\n",
              "2013-10-22  379.95  380.908526\n",
              "2013-03-13  300.80  299.273874\n",
              "2019-07-15  160.95  160.516950\n",
              "2016-02-08  323.95  325.670744\n",
              "2018-03-19  335.75  334.864587\n",
              "2012-11-07  269.25  271.387475\n",
              "2015-01-20  559.10  555.699716\n",
              "2012-08-10  232.00  232.049091\n",
              "2019-09-06  121.10  119.799389\n",
              "2021-08-26  284.40  283.565008\n",
              "2017-05-11  427.40  428.119707\n",
              "2016-04-27  418.60  419.555611\n",
              "2021-01-01  186.45  185.782658\n",
              "2018-06-05  285.35  285.653346\n",
              "2016-10-26  529.50  530.230182\n",
              "2013-04-26  296.25  294.395525\n",
              "2021-08-09  298.15  299.413405\n",
              "2013-05-02  296.45  295.929597\n",
              "2020-03-20   77.40   77.224353\n",
              "2015-04-23  511.60  514.281564\n",
              "2016-08-12  515.25  512.823847\n",
              "2014-04-04  405.10  406.144959"
            ],
            "text/html": [
              "\n",
              "  <div id=\"df-45f980dd-f8ae-4b93-a659-e755f2d10a50\">\n",
              "    <div class=\"colab-df-container\">\n",
              "      <div>\n",
              "<style scoped>\n",
              "    .dataframe tbody tr th:only-of-type {\n",
              "        vertical-align: middle;\n",
              "    }\n",
              "\n",
              "    .dataframe tbody tr th {\n",
              "        vertical-align: top;\n",
              "    }\n",
              "\n",
              "    .dataframe thead th {\n",
              "        text-align: right;\n",
              "    }\n",
              "</style>\n",
              "<table border=\"1\" class=\"dataframe\">\n",
              "  <thead>\n",
              "    <tr style=\"text-align: right;\">\n",
              "      <th></th>\n",
              "      <th>Actual</th>\n",
              "      <th>Predicted</th>\n",
              "    </tr>\n",
              "    <tr>\n",
              "      <th>Date</th>\n",
              "      <th></th>\n",
              "      <th></th>\n",
              "    </tr>\n",
              "  </thead>\n",
              "  <tbody>\n",
              "    <tr>\n",
              "      <th>2013-09-30</th>\n",
              "      <td>332.35</td>\n",
              "      <td>334.379245</td>\n",
              "    </tr>\n",
              "    <tr>\n",
              "      <th>2014-10-31</th>\n",
              "      <td>535.65</td>\n",
              "      <td>530.389391</td>\n",
              "    </tr>\n",
              "    <tr>\n",
              "      <th>2016-03-21</th>\n",
              "      <td>374.55</td>\n",
              "      <td>372.920589</td>\n",
              "    </tr>\n",
              "    <tr>\n",
              "      <th>2013-10-22</th>\n",
              "      <td>379.95</td>\n",
              "      <td>380.908526</td>\n",
              "    </tr>\n",
              "    <tr>\n",
              "      <th>2013-03-13</th>\n",
              "      <td>300.80</td>\n",
              "      <td>299.273874</td>\n",
              "    </tr>\n",
              "    <tr>\n",
              "      <th>2019-07-15</th>\n",
              "      <td>160.95</td>\n",
              "      <td>160.516950</td>\n",
              "    </tr>\n",
              "    <tr>\n",
              "      <th>2016-02-08</th>\n",
              "      <td>323.95</td>\n",
              "      <td>325.670744</td>\n",
              "    </tr>\n",
              "    <tr>\n",
              "      <th>2018-03-19</th>\n",
              "      <td>335.75</td>\n",
              "      <td>334.864587</td>\n",
              "    </tr>\n",
              "    <tr>\n",
              "      <th>2012-11-07</th>\n",
              "      <td>269.25</td>\n",
              "      <td>271.387475</td>\n",
              "    </tr>\n",
              "    <tr>\n",
              "      <th>2015-01-20</th>\n",
              "      <td>559.10</td>\n",
              "      <td>555.699716</td>\n",
              "    </tr>\n",
              "    <tr>\n",
              "      <th>2012-08-10</th>\n",
              "      <td>232.00</td>\n",
              "      <td>232.049091</td>\n",
              "    </tr>\n",
              "    <tr>\n",
              "      <th>2019-09-06</th>\n",
              "      <td>121.10</td>\n",
              "      <td>119.799389</td>\n",
              "    </tr>\n",
              "    <tr>\n",
              "      <th>2021-08-26</th>\n",
              "      <td>284.40</td>\n",
              "      <td>283.565008</td>\n",
              "    </tr>\n",
              "    <tr>\n",
              "      <th>2017-05-11</th>\n",
              "      <td>427.40</td>\n",
              "      <td>428.119707</td>\n",
              "    </tr>\n",
              "    <tr>\n",
              "      <th>2016-04-27</th>\n",
              "      <td>418.60</td>\n",
              "      <td>419.555611</td>\n",
              "    </tr>\n",
              "    <tr>\n",
              "      <th>2021-01-01</th>\n",
              "      <td>186.45</td>\n",
              "      <td>185.782658</td>\n",
              "    </tr>\n",
              "    <tr>\n",
              "      <th>2018-06-05</th>\n",
              "      <td>285.35</td>\n",
              "      <td>285.653346</td>\n",
              "    </tr>\n",
              "    <tr>\n",
              "      <th>2016-10-26</th>\n",
              "      <td>529.50</td>\n",
              "      <td>530.230182</td>\n",
              "    </tr>\n",
              "    <tr>\n",
              "      <th>2013-04-26</th>\n",
              "      <td>296.25</td>\n",
              "      <td>294.395525</td>\n",
              "    </tr>\n",
              "    <tr>\n",
              "      <th>2021-08-09</th>\n",
              "      <td>298.15</td>\n",
              "      <td>299.413405</td>\n",
              "    </tr>\n",
              "    <tr>\n",
              "      <th>2013-05-02</th>\n",
              "      <td>296.45</td>\n",
              "      <td>295.929597</td>\n",
              "    </tr>\n",
              "    <tr>\n",
              "      <th>2020-03-20</th>\n",
              "      <td>77.40</td>\n",
              "      <td>77.224353</td>\n",
              "    </tr>\n",
              "    <tr>\n",
              "      <th>2015-04-23</th>\n",
              "      <td>511.60</td>\n",
              "      <td>514.281564</td>\n",
              "    </tr>\n",
              "    <tr>\n",
              "      <th>2016-08-12</th>\n",
              "      <td>515.25</td>\n",
              "      <td>512.823847</td>\n",
              "    </tr>\n",
              "    <tr>\n",
              "      <th>2014-04-04</th>\n",
              "      <td>405.10</td>\n",
              "      <td>406.144959</td>\n",
              "    </tr>\n",
              "  </tbody>\n",
              "</table>\n",
              "</div>\n",
              "      <button class=\"colab-df-convert\" onclick=\"convertToInteractive('df-45f980dd-f8ae-4b93-a659-e755f2d10a50')\"\n",
              "              title=\"Convert this dataframe to an interactive table.\"\n",
              "              style=\"display:none;\">\n",
              "        \n",
              "  <svg xmlns=\"http://www.w3.org/2000/svg\" height=\"24px\"viewBox=\"0 0 24 24\"\n",
              "       width=\"24px\">\n",
              "    <path d=\"M0 0h24v24H0V0z\" fill=\"none\"/>\n",
              "    <path d=\"M18.56 5.44l.94 2.06.94-2.06 2.06-.94-2.06-.94-.94-2.06-.94 2.06-2.06.94zm-11 1L8.5 8.5l.94-2.06 2.06-.94-2.06-.94L8.5 2.5l-.94 2.06-2.06.94zm10 10l.94 2.06.94-2.06 2.06-.94-2.06-.94-.94-2.06-.94 2.06-2.06.94z\"/><path d=\"M17.41 7.96l-1.37-1.37c-.4-.4-.92-.59-1.43-.59-.52 0-1.04.2-1.43.59L10.3 9.45l-7.72 7.72c-.78.78-.78 2.05 0 2.83L4 21.41c.39.39.9.59 1.41.59.51 0 1.02-.2 1.41-.59l7.78-7.78 2.81-2.81c.8-.78.8-2.07 0-2.86zM5.41 20L4 18.59l7.72-7.72 1.47 1.35L5.41 20z\"/>\n",
              "  </svg>\n",
              "      </button>\n",
              "      \n",
              "  <style>\n",
              "    .colab-df-container {\n",
              "      display:flex;\n",
              "      flex-wrap:wrap;\n",
              "      gap: 12px;\n",
              "    }\n",
              "\n",
              "    .colab-df-convert {\n",
              "      background-color: #E8F0FE;\n",
              "      border: none;\n",
              "      border-radius: 50%;\n",
              "      cursor: pointer;\n",
              "      display: none;\n",
              "      fill: #1967D2;\n",
              "      height: 32px;\n",
              "      padding: 0 0 0 0;\n",
              "      width: 32px;\n",
              "    }\n",
              "\n",
              "    .colab-df-convert:hover {\n",
              "      background-color: #E2EBFA;\n",
              "      box-shadow: 0px 1px 2px rgba(60, 64, 67, 0.3), 0px 1px 3px 1px rgba(60, 64, 67, 0.15);\n",
              "      fill: #174EA6;\n",
              "    }\n",
              "\n",
              "    [theme=dark] .colab-df-convert {\n",
              "      background-color: #3B4455;\n",
              "      fill: #D2E3FC;\n",
              "    }\n",
              "\n",
              "    [theme=dark] .colab-df-convert:hover {\n",
              "      background-color: #434B5C;\n",
              "      box-shadow: 0px 1px 3px 1px rgba(0, 0, 0, 0.15);\n",
              "      filter: drop-shadow(0px 1px 2px rgba(0, 0, 0, 0.3));\n",
              "      fill: #FFFFFF;\n",
              "    }\n",
              "  </style>\n",
              "\n",
              "      <script>\n",
              "        const buttonEl =\n",
              "          document.querySelector('#df-45f980dd-f8ae-4b93-a659-e755f2d10a50 button.colab-df-convert');\n",
              "        buttonEl.style.display =\n",
              "          google.colab.kernel.accessAllowed ? 'block' : 'none';\n",
              "\n",
              "        async function convertToInteractive(key) {\n",
              "          const element = document.querySelector('#df-45f980dd-f8ae-4b93-a659-e755f2d10a50');\n",
              "          const dataTable =\n",
              "            await google.colab.kernel.invokeFunction('convertToInteractive',\n",
              "                                                     [key], {});\n",
              "          if (!dataTable) return;\n",
              "\n",
              "          const docLinkHtml = 'Like what you see? Visit the ' +\n",
              "            '<a target=\"_blank\" href=https://colab.research.google.com/notebooks/data_table.ipynb>data table notebook</a>'\n",
              "            + ' to learn more about interactive tables.';\n",
              "          element.innerHTML = '';\n",
              "          dataTable['output_type'] = 'display_data';\n",
              "          await google.colab.output.renderOutput(dataTable, element);\n",
              "          const docLink = document.createElement('div');\n",
              "          docLink.innerHTML = docLinkHtml;\n",
              "          element.appendChild(docLink);\n",
              "        }\n",
              "      </script>\n",
              "    </div>\n",
              "  </div>\n",
              "  "
            ]
          },
          "metadata": {},
          "execution_count": 94
        }
      ]
    },
    {
      "cell_type": "code",
      "source": [
        "#importing confusion matrix and accruracy score to calculate errors\n",
        "from sklearn.metrics import confusion_matrix, accuracy_score"
      ],
      "metadata": {
        "id": "Pi5nbVcsKoVC"
      },
      "execution_count": null,
      "outputs": []
    },
    {
      "cell_type": "code",
      "source": [
        "#we calculate the score to measure the accuracy of the model against the training data\n",
        "regressor.score(X_test,y_test)"
      ],
      "metadata": {
        "colab": {
          "base_uri": "https://localhost:8080/"
        },
        "id": "Q9qPr8m8KpbH",
        "outputId": "908c530c-0806-451c-9648-53289436ac57"
      },
      "execution_count": null,
      "outputs": [
        {
          "output_type": "execute_result",
          "data": {
            "text/plain": [
              "0.9996229316453026"
            ]
          },
          "metadata": {},
          "execution_count": 96
        }
      ]
    },
    {
      "cell_type": "code",
      "source": [
        "#calculating errors\n",
        "import math\n",
        "print('Mean Absolute Error:',metrics.mean_absolute_error(y_test,predicted))\n",
        "print('Mean Squared  Error:',metrics.mean_squared_error(y_test,predicted))\n",
        "print('Root Mean Squared Error:',math.sqrt(metrics.mean_squared_error(y_test,predicted)))"
      ],
      "metadata": {
        "colab": {
          "base_uri": "https://localhost:8080/"
        },
        "id": "7GJyAmOWKsEq",
        "outputId": "58328cc3-a718-44ab-93d6-fffe66538824"
      },
      "execution_count": null,
      "outputs": [
        {
          "output_type": "stream",
          "name": "stdout",
          "text": [
            "Mean Absolute Error: 1.881070004597848\n",
            "Mean Squared  Error: 6.3655523077401215\n",
            "Root Mean Squared Error: 2.523004619048511\n"
          ]
        }
      ]
    },
    {
      "cell_type": "code",
      "source": [
        "graph=dfr.head(50) #shortlisted initial 50 values for the graphical representation from the data"
      ],
      "metadata": {
        "id": "UhMZDklRKzL1"
      },
      "execution_count": null,
      "outputs": []
    },
    {
      "cell_type": "code",
      "source": [
        "graph.plot()\n",
        "#plotting graphs (we see that its almost overlapping)"
      ],
      "metadata": {
        "colab": {
          "base_uri": "https://localhost:8080/",
          "height": 286
        },
        "outputId": "3c8e4c6a-c0ff-4aea-eeee-0a64aae55e63",
        "id": "rhLBJQR8DHUt"
      },
      "execution_count": null,
      "outputs": [
        {
          "output_type": "execute_result",
          "data": {
            "text/plain": [
              "<matplotlib.axes._subplots.AxesSubplot at 0x7fa8254562d0>"
            ]
          },
          "metadata": {},
          "execution_count": 105
        },
        {
          "output_type": "display_data",
          "data": {
            "text/plain": [
              "<Figure size 432x288 with 1 Axes>"
            ],
            "image/png": "[encoded data removed]"
          },
          "metadata": {
            "needs_background": "light"
          }
        }
      ]
    },
    {
      "cell_type": "code",
      "source": [
        "graph=dfr.head(20) #shortlisted initial 20 values for the bar graph representation from the data"
      ],
      "metadata": {
        "id": "H1ICSuXdSaLt"
      },
      "execution_count": null,
      "outputs": []
    },
    {
      "cell_type": "code",
      "source": [
        "graph.plot(kind='bar')\n",
        "#plotting bar plot for accuracy clarity"
      ],
      "metadata": {
        "colab": {
          "base_uri": "https://localhost:8080/",
          "height": 391
        },
        "id": "cAqP3OfyK1SW",
        "outputId": "f5be7c2c-fc6d-43b9-972b-af70998a3956"
      },
      "execution_count": null,
      "outputs": [
        {
          "output_type": "execute_result",
          "data": {
            "text/plain": [
              "<matplotlib.axes._subplots.AxesSubplot at 0x7fa8257154d0>"
            ]
          },
          "metadata": {},
          "execution_count": 101
        },
        {
          "output_type": "display_data",
          "data": {
            "text/plain": [
              "<Figure size 432x288 with 1 Axes>"
            ],
            "image/png": "[encoded data removed]"
          },
          "metadata": {
            "needs_background": "light"
          }
        }
      ]
    }
  ]
}